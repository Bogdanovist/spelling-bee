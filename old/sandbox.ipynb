{
 "cells": [
  {
   "cell_type": "code",
   "execution_count": 1,
   "metadata": {},
   "outputs": [],
   "source": [
    "from flask import Flask, render_template, request\n",
    "from flask_sqlalchemy import SQLAlchemy\n",
    "import random\n",
    "from sqlalchemy import engine\n",
    "\n",
    "#app = Flask(__name__)\n",
    "#app.config['SQLALCHEMY_DATABASE_URI'] = 'postgresql://matt@localhost/spelling_bee'\n",
    "#db = SQLAlchemy(app)"
   ]
  },
  {
   "cell_type": "code",
   "execution_count": 2,
   "metadata": {},
   "outputs": [],
   "source": [
    "db = engine.create_engine('postgresql://matt@localhost/spelling_bee')\n",
    "\n",
    "#db.create_all()"
   ]
  },
  {
   "cell_type": "code",
   "execution_count": null,
   "metadata": {},
   "outputs": [],
   "source": [
    "db."
   ]
  }
 ],
 "metadata": {
  "kernelspec": {
   "display_name": "spelling",
   "language": "python",
   "name": "python3"
  },
  "language_info": {
   "codemirror_mode": {
    "name": "ipython",
    "version": 3
   },
   "file_extension": ".py",
   "mimetype": "text/x-python",
   "name": "python",
   "nbconvert_exporter": "python",
   "pygments_lexer": "ipython3",
   "version": "3.10.0"
  },
  "orig_nbformat": 4,
  "vscode": {
   "interpreter": {
    "hash": "9d6d81e76a87cef652a34439f826e7e261555794e61b529bbfe7b98323f270fa"
   }
  }
 },
 "nbformat": 4,
 "nbformat_minor": 2
}
